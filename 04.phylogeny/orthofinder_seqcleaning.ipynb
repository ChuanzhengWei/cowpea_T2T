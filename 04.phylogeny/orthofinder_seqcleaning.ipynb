{
 "cells": [
  {
   "cell_type": "code",
   "execution_count": 2,
   "id": "6c0a371d-3d29-4e1b-87a1-a07d80949957",
   "metadata": {},
   "outputs": [],
   "source": [
    "import os\n",
    "# os.chdir(r'C:\\Users\\WeiChuanzheng\\Desktop\\T2T_FC6\\orthofinder_rename')\n",
    "os.chdir(r'C:\\Users\\WeiChuanzheng\\Desktop\\tmp')"
   ]
  },
  {
   "cell_type": "code",
   "execution_count": 26,
   "id": "dab183b5-b7eb-4b69-bf6f-033ae5599b4b",
   "metadata": {},
   "outputs": [],
   "source": [
    "samples = [i.replace('.fa','') for i in os.listdir('01.protein/')]"
   ]
  },
  {
   "cell_type": "code",
   "execution_count": 28,
   "id": "8d3cafeb-500d-4881-a774-bd05313ecb68",
   "metadata": {},
   "outputs": [
    {
     "data": {
      "text/plain": [
       "17"
      ]
     },
     "execution_count": 28,
     "metadata": {},
     "output_type": "execute_result"
    }
   ],
   "source": [
    "len(samples)"
   ]
  },
  {
   "cell_type": "code",
   "execution_count": 30,
   "id": "72fcfcd2-e1bd-49ba-83c3-59af31083e9c",
   "metadata": {},
   "outputs": [
    {
     "data": {
      "text/plain": [
       "['Abisp', 'Agall', 'Aosto', 'Ccine', 'Cmili']"
      ]
     },
     "execution_count": 30,
     "metadata": {},
     "output_type": "execute_result"
    }
   ],
   "source": [
    "samples[:5]"
   ]
  },
  {
   "cell_type": "code",
   "execution_count": 34,
   "id": "f10e921c-a3f5-476f-8f91-3f05e172509f",
   "metadata": {},
   "outputs": [],
   "source": [
    "directories = ['02.cds', '02.protein', '03.cds', '03.protein', '04.cds', '04.protein']\n",
    "for dir in directories:\n",
    "    os.makedirs(dir, exist_ok=True)"
   ]
  },
  {
   "cell_type": "code",
   "execution_count": 10,
   "id": "529bffa8-16ba-4d70-bba8-ca2e4b9e44b3",
   "metadata": {},
   "outputs": [],
   "source": [
    "def FastaToDict(file):\n",
    "    fasta = {}\n",
    "    with open(file, 'r')as f:\n",
    "        lines = f.readlines()\n",
    "    for line in lines:\n",
    "        if line[0] == '>':\n",
    "            key = line.strip()\n",
    "            fasta[key] = []\n",
    "        else:\n",
    "            fasta[key].append(line.strip())\n",
    "    for key,value in list(fasta.items()):\n",
    "        fasta[key] = ''.join(value)\n",
    "    return fasta"
   ]
  },
  {
   "cell_type": "code",
   "execution_count": 12,
   "id": "52e88e4d-fcb1-46d1-9b1c-6f7cc73e20d4",
   "metadata": {},
   "outputs": [],
   "source": [
    "def rename_protein(sample):\n",
    "    seq = FastaToDict(f'01.protein/{sample}.fa')\n",
    "    count = 0\n",
    "    new_cds_lines = []\n",
    "    match_lines = []\n",
    "    for k, v in seq.items():\n",
    "        k = k.split()[0]\n",
    "        count += 1\n",
    "        name = f\"S{str(count).zfill(6)}\"\n",
    "        match_lines.append(f\"{k[1:]}\\t{name}\\n\")\n",
    "        new_cds_lines.append(f\">{name}\\n\")\n",
    "        for i in range(0, len(v), 70):\n",
    "            new_cds_lines.append(f\"{v[i:i+70].rstrip('*')}\\n\")\n",
    "\n",
    "    with open(f'02.protein/{sample}.match.txt', 'w') as f:\n",
    "        f.writelines(match_lines)\n",
    "\n",
    "    with open(f'02.protein/{sample}.fa', 'w') as f:\n",
    "        f.writelines(new_cds_lines)\n",
    "\n",
    "    print(count)"
   ]
  },
  {
   "cell_type": "code",
   "execution_count": 14,
   "id": "ea32d893-4265-41d8-88ea-222b8af59963",
   "metadata": {},
   "outputs": [],
   "source": [
    "def rename_cds(sample):\n",
    "    seq = FastaToDict(f'01.cds/{sample}.cds.fa')\n",
    "    count = 0\n",
    "    new_cds_lines = []\n",
    "    match_lines = []\n",
    "    for k, v in seq.items():\n",
    "        k = k.split()[0]\n",
    "        count += 1\n",
    "        name = f\"S{str(count).zfill(6)}\"\n",
    "        match_lines.append(f\"{k[1:]}\\t{name}\\n\")\n",
    "        new_cds_lines.append(f\">{name}\\n\")\n",
    "        for i in range(0, len(v), 70):\n",
    "            new_cds_lines.append(f\"{v[i:i+70].rstrip('*')}\\n\")\n",
    "\n",
    "    with open(f'02.cds/{sample}.match.txt', 'w') as f:\n",
    "        f.writelines(match_lines)\n",
    "\n",
    "    with open(f'02.cds/{sample}.cds.fa', 'w') as f:\n",
    "        f.writelines(new_cds_lines)\n",
    "\n",
    "    print(count)"
   ]
  },
  {
   "cell_type": "code",
   "execution_count": 16,
   "id": "adac815a-185f-4411-a28a-d748b46327df",
   "metadata": {},
   "outputs": [],
   "source": [
    "def delate_point_protein(sample):\n",
    "    seq = FastaToDict('02.protein/{}.fa'.format(sample))\n",
    "    with open('03.protein/{}.fa'.format(sample), 'w')as f:\n",
    "        count = 0\n",
    "        for k,v in seq.items():\n",
    "            if '.' in v:continue\n",
    "            if '*' in v:continue\n",
    "            count += 1\n",
    "            f.write(f\"{k}\\n\")\n",
    "            for i in range(0, len(v), 70):\n",
    "                f.write(f\"{v[i:i+70]}\\n\")\n",
    "        print(count)"
   ]
  },
  {
   "cell_type": "code",
   "execution_count": 18,
   "id": "1b126159-3956-46dd-9b78-2a3d57b752ae",
   "metadata": {},
   "outputs": [],
   "source": [
    "def delate_point_cds(sample):\n",
    "    seq1 = FastaToDict('03.protein/{}.fa'.format(sample))\n",
    "    seq2 = FastaToDict('02.cds/{}.cds.fa'.format(sample))\n",
    "    with open('03.cds/{}.cds.fa'.format(sample), 'w')as f:\n",
    "        count = 0\n",
    "        for k,v in seq1.items():\n",
    "            count += 1\n",
    "            f.write(f\"{k}\\n\")\n",
    "            s = seq2[k]\n",
    "            for i in range(0, len(s), 70):\n",
    "                f.write(f\"{s[i:i+70]}\\n\")\n",
    "        print(count)"
   ]
  },
  {
   "cell_type": "code",
   "execution_count": null,
   "id": "a45fc3ca-e1e5-4989-8613-521320cea92c",
   "metadata": {},
   "outputs": [],
   "source": [
    "rename_protein('Fhisp')\n",
    "rename_cds('Fhisp')\n",
    "delate_point_protein('Fhisp')\n",
    "delate_point_cds('Fhisp')"
   ]
  },
  {
   "cell_type": "code",
   "execution_count": 36,
   "id": "232e9ea4-36c1-4f36-934c-c75023dd6f73",
   "metadata": {
    "scrolled": true
   },
   "outputs": [
    {
     "name": "stdout",
     "output_type": "stream",
     "text": [
      "Abisp\n",
      "10431\n",
      "10431\n",
      "10431\n",
      "10431\n",
      "Agall\n",
      "25695\n",
      "25695\n",
      "25695\n",
      "25695\n",
      "Aosto\n",
      "22283\n",
      "22283\n",
      "22283\n",
      "22283\n",
      "Ccine\n",
      "13356\n",
      "13356\n",
      "13356\n",
      "13356\n",
      "Cmili\n",
      "9651\n",
      "9651\n",
      "9651\n",
      "9651\n",
      "Dtabe\n",
      "19031\n",
      "19031\n",
      "19031\n",
      "19031\n",
      "Ff\n",
      "14731\n",
      "14731\n",
      "14711\n",
      "14711\n",
      "Foxys\n",
      "16183\n",
      "16183\n",
      "16183\n",
      "16183\n",
      "Hmarm\n",
      "16627\n",
      "16627\n",
      "16627\n",
      "16627\n",
      "Hradi\n",
      "27479\n",
      "27479\n",
      "27479\n",
      "27479\n",
      "Mmayd\n",
      "6765\n",
      "6765\n",
      "6765\n",
      "6765\n",
      "Msext\n",
      "13182\n",
      "13182\n",
      "13182\n",
      "13182\n",
      "Ncras\n",
      "9758\n",
      "9758\n",
      "9736\n",
      "9736\n",
      "Peryn\n",
      "15954\n",
      "15954\n",
      "15954\n",
      "15954\n",
      "Postr\n",
      "11693\n",
      "11693\n",
      "11693\n",
      "11693\n",
      "Scomm\n",
      "16186\n",
      "16186\n",
      "16186\n",
      "16186\n",
      "Vvolv\n",
      "11045\n",
      "11045\n",
      "11045\n",
      "11045\n"
     ]
    }
   ],
   "source": [
    "for sample in samples:\n",
    "    print(sample)\n",
    "    rename_protein(sample)\n",
    "    rename_cds(sample)\n",
    "    delate_point_protein(sample)\n",
    "    delate_point_cds(sample)"
   ]
  },
  {
   "cell_type": "code",
   "execution_count": 38,
   "id": "06e8997c-7da0-4071-9ef1-eeb2b1fac053",
   "metadata": {},
   "outputs": [],
   "source": [
    "with open('fastix.sh', 'w')as f:\n",
    "    for sample in samples:\n",
    "        f.write(f\"fastix -p \\\"{sample}#\\\" 03.cds/{sample}.cds.fa > 04.cds/{sample}.cds.fa\\n\")\n",
    "        f.write(f\"fastix -p \\\"{sample}#\\\" 03.protein/{sample}.fa > 04.protein/{sample}.fa\\n\")"
   ]
  }
 ],
 "metadata": {
  "kernelspec": {
   "display_name": "Python [conda env:base] *",
   "language": "python",
   "name": "conda-base-py"
  },
  "language_info": {
   "codemirror_mode": {
    "name": "ipython",
    "version": 3
   },
   "file_extension": ".py",
   "mimetype": "text/x-python",
   "name": "python",
   "nbconvert_exporter": "python",
   "pygments_lexer": "ipython3",
   "version": "3.12.7"
  }
 },
 "nbformat": 4,
 "nbformat_minor": 5
}
