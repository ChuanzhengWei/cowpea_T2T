{
 "cells": [
  {
   "cell_type": "code",
   "execution_count": null,
   "id": "d0ce3b1f-7424-4dbe-9c65-13bcbd004603",
   "metadata": {},
   "outputs": [],
   "source": [
    "import os\n",
    "os.chdir(r'C:\\Users\\WeiChuanzheng\\Desktop\\T2T_FC6\\SD')"
   ]
  },
  {
   "cell_type": "code",
   "execution_count": null,
   "id": "94e2b736-956c-47bc-90ae-a39f9919cb2a",
   "metadata": {},
   "outputs": [],
   "source": [
    "from collections import Counter\n",
    "from collections import defaultdict\n",
    "import numpy as np"
   ]
  },
  {
   "cell_type": "code",
   "execution_count": null,
   "id": "17ad532f-8adc-487a-98cc-c2537f1f6c87",
   "metadata": {},
   "outputs": [],
   "source": [
    "sample = 'HJD'\n",
    "in_file = f\"{sample}.sd.elem.txt\"\n",
    "elem = []\n",
    "with open(in_file, 'r')as f:\n",
    "    lines = f.readlines()\n",
    "for line in lines:\n",
    "    elem.append(line.rstrip().split())"
   ]
  },
  {
   "cell_type": "code",
   "execution_count": null,
   "id": "01f6b95a-0844-41e9-bda4-80a75c6cd792",
   "metadata": {},
   "outputs": [],
   "source": [
    "# with open ('tmp.txt','w') as f:\n",
    "#     for k,v in dict(Counter(i[4] for i in elem)).items():\n",
    "#         f.write(f\"{k}\\t{v}\\n\")"
   ]
  },
  {
   "cell_type": "code",
   "execution_count": null,
   "id": "8c0ebd22-575d-4003-a727-2d64fbf46515",
   "metadata": {},
   "outputs": [],
   "source": [
    "# elem_fil = [i for i in elem if int(i[5])>=1000]"
   ]
  },
  {
   "cell_type": "code",
   "execution_count": null,
   "id": "e15224f6-deb8-47a5-805a-ab04fe51d375",
   "metadata": {},
   "outputs": [],
   "source": [
    "def merge_intervals(intervals):\n",
    "    merged = []\n",
    "    \n",
    "    chrom_dict = defaultdict(list)\n",
    "    for chrom, start, end in intervals:\n",
    "        chrom_dict[chrom].append((start, end))\n",
    "    \n",
    "    for chrom, intv_list in chrom_dict.items():\n",
    "        intv_list.sort(key=lambda x: x[0])\n",
    "        merged_intervals = []\n",
    "        current_start, current_end = intv_list[0]\n",
    "        for start, end in intv_list[1:]:\n",
    "            if start <= current_end:\n",
    "                current_end = max(current_end, end)\n",
    "            else:\n",
    "                merged_intervals.append((current_start, current_end))\n",
    "                current_start, current_end = start, end\n",
    "        merged_intervals.append((current_start, current_end))\n",
    "        \n",
    "        for s, e in merged_intervals:\n",
    "            merged.append((chrom, s, e))\n",
    "    \n",
    "    merged.sort(key=lambda x: (x[0], x[1]))\n",
    "    return merged"
   ]
  },
  {
   "cell_type": "code",
   "execution_count": null,
   "id": "3559412b-e976-4d6b-90f9-2032579ab7ba",
   "metadata": {},
   "outputs": [],
   "source": [
    "sd_pair = defaultdict(list)\n",
    "for i in elem:\n",
    "    key = i[4]\n",
    "    sd_pair[key].append((i[1], int(i[2]), int(i[3]), i[7]))\n",
    "sd_pair = dict(sd_pair)\n",
    "print(len(sd_pair))"
   ]
  },
  {
   "cell_type": "code",
   "execution_count": null,
   "id": "a06fd93a-067a-4507-920d-696b18c545dc",
   "metadata": {},
   "outputs": [],
   "source": [
    "for i in sd_pair.values():\n",
    "    for j in i:\n",
    "        if j[0] != 'Chr03':continue\n",
    "        if abs(j[1] - 18299273) <= 40000:\n",
    "            print(i)"
   ]
  },
  {
   "cell_type": "code",
   "execution_count": null,
   "id": "73500401-5d30-4207-8f18-d070ee9c8b16",
   "metadata": {},
   "outputs": [],
   "source": [
    "sd_pair_fil = {k: v for k, v in sd_pair.items() if len(v) >= 2}\n",
    "# sd_pair_fil_1000 = {k: v for k, v in sd_pair_fil.items() if any(end - start + 1 >= 1000 for _, start, end, _ in v)}\n",
    "# print(len(sd_pair_fil_1000))\n",
    "sd_pair_fil_1000 = {k: v for k, v in sd_pair_fil.items() if all(end - start + 1 >= 1000 for _, start, end, _ in v)}\n",
    "print(len(sd_pair_fil_1000))"
   ]
  },
  {
   "cell_type": "code",
   "execution_count": null,
   "id": "461e7e3f-af49-4409-b97b-3bd2117bc128",
   "metadata": {},
   "outputs": [],
   "source": [
    "print(len(Counter(i[4] for i in elem)))\n",
    "print(len(sd_pair_fil))\n",
    "print(len(sd_pair_fil_1000))"
   ]
  },
  {
   "cell_type": "code",
   "execution_count": null,
   "id": "1a23a50b-354b-478a-a507-2ae51c918244",
   "metadata": {},
   "outputs": [],
   "source": [
    "def get_sd_total_length(dictionary):\n",
    "    sd_region = []\n",
    "    for k,v in dictionary.items():\n",
    "        for i in v:\n",
    "            sd_region.append((i[0],min(int(i[1]),int(i[2])),max(int(i[1]),int(i[2]))))\n",
    "    \n",
    "    sd_region_merged = merge_intervals(sd_region)\n",
    "    sd_total_length = sum(end - start + 1 for _, start, end in sd_region_merged)\n",
    "    \n",
    "    return sd_total_length\n",
    "    \n",
    "def get_sd_mean_length(dictionary):\n",
    "    sd_region = []\n",
    "    for k,v in dictionary.items():\n",
    "        for i in v:\n",
    "            sd_region.append((i[0],min(int(i[1]),int(i[2])),max(int(i[1]),int(i[2]))))\n",
    "\n",
    "    sd_region_merged = merge_intervals(sd_region)\n",
    "    lengths = [end - start + 1 for _, start, end in sd_region_merged]\n",
    "    sd_mean_length = np.mean(lengths)\n",
    "    \n",
    "    return sd_mean_length"
   ]
  },
  {
   "cell_type": "code",
   "execution_count": null,
   "id": "2d2d72e9-38c3-4b71-aefa-5b02608d6f03",
   "metadata": {},
   "outputs": [],
   "source": [
    "get_sd_total_length(sd_pair_fil_1000)"
   ]
  },
  {
   "cell_type": "code",
   "execution_count": null,
   "id": "5781aeb3-32ba-41e9-90b6-93c3c02b7397",
   "metadata": {},
   "outputs": [],
   "source": [
    "get_sd_mean_length(sd_pair_fil_1000)"
   ]
  },
  {
   "cell_type": "code",
   "execution_count": null,
   "id": "17ef446e-d236-4088-9dab-a5990ee1c4d1",
   "metadata": {},
   "outputs": [],
   "source": [
    "inter = {k: v for k, v in sd_pair_fil_1000.items() if len({entry[0] for entry in v}) == 1}\n",
    "intra = {k: v for k, v in sd_pair_fil_1000.items() if len({entry[0] for entry in v}) > 1}"
   ]
  },
  {
   "cell_type": "code",
   "execution_count": null,
   "id": "3e8bd7df-8686-4501-a869-f5a7381e4529",
   "metadata": {},
   "outputs": [],
   "source": [
    "print(len(inter))\n",
    "print(get_sd_total_length(inter))\n",
    "print(get_sd_mean_length(inter))"
   ]
  },
  {
   "cell_type": "code",
   "execution_count": null,
   "id": "c07709a3-29f3-4004-8778-20a62d90d009",
   "metadata": {},
   "outputs": [],
   "source": [
    "print(len(intra))\n",
    "print(get_sd_total_length(intra))\n",
    "print(get_sd_mean_length(intra))"
   ]
  },
  {
   "cell_type": "code",
   "execution_count": null,
   "id": "8323f26b-4e28-44eb-b285-0e4b07d24439",
   "metadata": {},
   "outputs": [],
   "source": [
    "def get_sd_regions(dictionary):\n",
    "    sd_region = []\n",
    "    for k,v in dictionary.items():\n",
    "        for i in v:\n",
    "            sd_region.append((i[0],min(int(i[1]),int(i[2])),max(int(i[1]),int(i[2]))))\n",
    "    \n",
    "    sd_region_merged = merge_intervals(sd_region)\n",
    "   \n",
    "    return sd_region_merged"
   ]
  },
  {
   "cell_type": "code",
   "execution_count": null,
   "id": "e3b0e380-37dd-472f-9f32-a782e6873d57",
   "metadata": {},
   "outputs": [],
   "source": [
    "out_file = f\"{sample}.sd.regions.txt\"\n",
    "with open(out_file, 'w')as f:\n",
    "    for c,s,e in get_sd_regions(sd_pair_fil_1000):\n",
    "        f.write(f\"{c}\\t{s}\\t{e}\\t{e-s}\\n\")"
   ]
  }
 ],
 "metadata": {
  "kernelspec": {
   "display_name": "Python 3 (ipykernel)",
   "language": "python",
   "name": "python3"
  },
  "language_info": {
   "codemirror_mode": {
    "name": "ipython",
    "version": 3
   },
   "file_extension": ".py",
   "mimetype": "text/x-python",
   "name": "python",
   "nbconvert_exporter": "python",
   "pygments_lexer": "ipython3",
   "version": "3.12.7"
  }
 },
 "nbformat": 4,
 "nbformat_minor": 5
}
